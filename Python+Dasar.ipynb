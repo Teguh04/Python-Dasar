{
 "cells": [
  {
   "cell_type": "markdown",
   "metadata": {},
   "source": [
    "Komentar (comment) adalah kode di dalam script Python yang tidak dieksekusi atau tidak dijalankan mesin. Komentar hanya digunakan untuk menandai atau memberikan keterangan tertulis pada script. \n",
    "Komentar biasa digunakan untuk membiarkan orang lain memahami apa yang dilakukan script. atau untuk mengingatkan kepada programmer sendiri jika suatu saat kembali mengedit script tersebut.\n",
    "Untuk menggunakan komentar anda cukup menulis tanda pagar #, diikuti dengan komentar Anda.\n",
    "Dibawah ini adalah contoh penggunaan komentar pada Python."
   ]
  },
  {
   "cell_type": "code",
   "execution_count": 19,
   "metadata": {},
   "outputs": [
    {
     "name": "stdout",
     "output_type": "stream",
     "text": [
      "Hello World\n"
     ]
    }
   ],
   "source": [
    "#Ini adalah komentar\n",
    "# Tulisan ini tidak akan dieksekusi\n",
    "\n",
    "#komentar dengan tanda pagar hanya bisa digunakan\n",
    "#untuk\n",
    "#satu\n",
    "#baris\n",
    "\n",
    "print(\"Hello World\") #ini juga komentar\n",
    "\n",
    "#print(\"Welcome\")\n",
    "\n",
    "# komentar bisa berisi spesial karakter !@#$%^&*(),./;'[]\\"
   ]
  },
  {
   "cell_type": "markdown",
   "metadata": {},
   "source": [
    "Tipe data adalah suatu media atau memori pada komputer yang digunakan untuk menampung informasi.\n",
    "Python sendiri mempunyai tipe data yang cukup unik bila kita bandingkan dengan bahasa pemrograman yang lain.\n",
    "Berikut adalah tipe data dari bahasa pemrograman Python:"
   ]
  },
  {
   "cell_type": "markdown",
   "metadata": {},
   "source": [
    "1. Boolean Contoh: True atau False Penjelasan: Menyatakan benar(True) yang bernilai 1, atau salah(False) yang bernilai 0\n",
    "2. String Contoh: \"Ayo belajar Python\" Penjelasan: Menyatakan karakter/kalimat bisa berupa huruf angka, dll (diapit tanda \" atau ')\n",
    "3. Integer Contoh: 25 atau 1209 Penjelasan: Menyatakan bilangan bulat\n",
    "4. Float Contoh: 3.14 atau 0.99 Penjelasan: Menyatakan bilangan yang mempunyai koma\n",
    "5. Complex Contoh: 1 + 5j Penjelasan: Menyatakan pasangan angka real dan imajiner\n",
    "6. List Contoh: ['xyz', 786, 2.23] Penjelasan: Data untaian yang menyimpan berbagai tipe data dan isinya bisa diubah-ubah\n",
    "7. Tuple Contoh: ('xyz', 768, 2.23) Penjelasan: Data untaian yang menyimpan berbagai tipe data tapi isinya tidak bisa diubah\n",
    "8. Dictionary Contoh: {'nama': 'adi','id':2} Penjelasan: Data untaian yang menyimpan berbagai tipe data berupa pasangan penunjuk dan nilai"
   ]
  },
  {
   "cell_type": "code",
   "execution_count": 39,
   "metadata": {},
   "outputs": [
    {
     "name": "stdout",
     "output_type": "stream",
     "text": [
      "True\n",
      "<type 'bool'>\n"
     ]
    }
   ],
   "source": [
    "#tipe data Boolean\n",
    "print(True)\n",
    "print type(True)"
   ]
  },
  {
   "cell_type": "code",
   "execution_count": 38,
   "metadata": {},
   "outputs": [
    {
     "name": "stdout",
     "output_type": "stream",
     "text": [
      "Ayo belajar Python\n",
      "Belajar Python Sangat Mudah\n",
      "<type 'str'>\n",
      "<type 'str'>\n"
     ]
    }
   ],
   "source": [
    "#tipe data String\n",
    "print(\"Ayo belajar Python\")\n",
    "print('Belajar Python Sangat Mudah')\n",
    "print type(\"Ayo belajar Python\")\n",
    "print type('Belajar Python Sangat Mudah')"
   ]
  },
  {
   "cell_type": "code",
   "execution_count": 37,
   "metadata": {},
   "outputs": [
    {
     "name": "stdout",
     "output_type": "stream",
     "text": [
      "20\n",
      "<type 'int'>\n"
     ]
    }
   ],
   "source": [
    "#tipe data Integer\n",
    "print(20)\n",
    "print type(20)"
   ]
  },
  {
   "cell_type": "code",
   "execution_count": 36,
   "metadata": {},
   "outputs": [
    {
     "name": "stdout",
     "output_type": "stream",
     "text": [
      "3.14\n",
      "<type 'float'>\n"
     ]
    }
   ],
   "source": [
    "#tipe data Float\n",
    "print(3.14)\n",
    "print type(3.14)"
   ]
  },
  {
   "cell_type": "code",
   "execution_count": 35,
   "metadata": {},
   "outputs": [
    {
     "name": "stdout",
     "output_type": "stream",
     "text": [
      "5j\n",
      "<type 'complex'>\n"
     ]
    }
   ],
   "source": [
    "#tipe data Complex\n",
    "print(5j)\n",
    "print type(5j)"
   ]
  },
  {
   "cell_type": "code",
   "execution_count": 34,
   "metadata": {},
   "outputs": [
    {
     "name": "stdout",
     "output_type": "stream",
     "text": [
      "[1, 2, 3, 4, 5]\n",
      "['satu', 'dua', 'tiga']\n",
      "<type 'list'>\n",
      "<type 'list'>\n"
     ]
    }
   ],
   "source": [
    "#tipe data List\n",
    "print([1,2,3,4,5])\n",
    "print([\"satu\", \"dua\", \"tiga\"])\n",
    "print type([1,2,3,4,5])\n",
    "print type([\"satu\", \"dua\", \"tiga\"])"
   ]
  },
  {
   "cell_type": "code",
   "execution_count": 33,
   "metadata": {},
   "outputs": [
    {
     "name": "stdout",
     "output_type": "stream",
     "text": [
      "(1, 2, 3, 4, 5)\n",
      "('satu', 'dua', 'tiga')\n",
      "<type 'tuple'>\n",
      "<type 'tuple'>\n"
     ]
    }
   ],
   "source": [
    "#tipe data Tuple\n",
    "print((1,2,3,4,5))\n",
    "print((\"satu\", \"dua\", \"tiga\"))\n",
    "print type((1,2,3,4,5))\n",
    "print type((\"satu\", \"dua\", \"tiga\"))"
   ]
  },
  {
   "cell_type": "code",
   "execution_count": 32,
   "metadata": {},
   "outputs": [
    {
     "name": "stdout",
     "output_type": "stream",
     "text": [
      "{'nama': 'Budi', 'umur': 20}\n",
      "<type 'dict'>\n"
     ]
    }
   ],
   "source": [
    "#tipe data Dictionary\n",
    "print({\"nama\":\"Budi\", 'umur':20})\n",
    "print type({\"nama\":\"Budi\", 'umur':20})"
   ]
  },
  {
   "cell_type": "markdown",
   "metadata": {},
   "source": [
    "Variabel adalah lokasi memori yang dicadangkan untuk menyimpan nilai-nilai. Ini berarti bahwa ketika Anda membuat sebuah variabel Anda memesan beberapa ruang di memori. Variabel menyimpan data yang dilakukan selama program dieksekusi, yang natinya isi dari variabel tersebut dapat diubah oleh operasi - operasi tertentu pada program yang menggunakan variabel.\n",
    "Variabel dapat menyimpan berbagai macam tipe data. Di dalam pemrograman Python, variabel mempunyai sifat yang dinamis, artinya variabel Python tidak perlu didekralasikan tipe data tertentu dan variabel Python dapat diubah saat program dijalankan.\n",
    "Penulisan variabel Python sendiri juga memiliki aturan tertentu, yaitu :\n",
    "1. Karakter pertama harus berupa huruf atau garis bawah/underscore _\n",
    "2. Karakter selanjutnya dapat berupa huruf, garis bawah/underscore _ atau angka\n",
    "3. Karakter pada nama variabel bersifat sensitif (case-sensitif). Artinya huruf kecil dan huruf besar dibedakan. Sebagai contoh, variabel namaDepan dan namadepan adalah variabel yang berbeda.\n",
    "Untuk mulai membuat variabel di Python caranya sangat mudah, Anda cukup menuliskan variabel lalu mengisinya dengan suatu nilai dengan cara menambahkan tanda sama dengan = diikuti dengan nilai yang ingin dimasukan.\n",
    "Dibawah ini adalah contoh penggunaan variabel dalam bahasa pemrograman Python"
   ]
  },
  {
   "cell_type": "code",
   "execution_count": 73,
   "metadata": {},
   "outputs": [
    {
     "name": "stdout",
     "output_type": "stream",
     "text": [
      "John Doe\n"
     ]
    }
   ],
   "source": [
    "#proses memasukan data ke dalam variabel\n",
    "nama = \"John Doe\"\n",
    "#proses mencetak variabel\n",
    "print(nama)"
   ]
  },
  {
   "cell_type": "code",
   "execution_count": 96,
   "metadata": {},
   "outputs": [
    {
     "name": "stdout",
     "output_type": "stream",
     "text": [
      "20\n",
      "<type 'int'>\n",
      "dua puluh satu\n",
      "<type 'str'>\n",
      "('Biodata: ', 'Budi Susanto', 22, 'Berenang')\n"
     ]
    }
   ],
   "source": [
    "#nilai dan tipe data dalam variabel  dapat diubah\n",
    "umur = 20               #nilai awal\n",
    "print(umur)             #mencetak nilai umur\n",
    "print type(umur)        #mengecek tipe data umur\n",
    "umur = \"dua puluh satu\" #nilai setelah diubah\n",
    "print(umur)             #mencetak nilai umur\n",
    "print type(umur)        #mengecek tipe data umur\n",
    "\n",
    "namaDepan = \"Budi\"\n",
    "namaBelakang = \"Susanto\"\n",
    "nama = namaDepan + \" \" + namaBelakang\n",
    "umur = 22\n",
    "hobi = \"Berenang\"\n",
    "print(\"Biodata: \", nama, umur, hobi)"
   ]
  },
  {
   "cell_type": "code",
   "execution_count": 76,
   "metadata": {},
   "outputs": [
    {
     "name": "stdout",
     "output_type": "stream",
     "text": [
      "50\n"
     ]
    }
   ],
   "source": [
    "#contoh variabel lainya\n",
    "inivariabel = \"Halo\"\n",
    "ini_juga_variabel = \"Hai\"\n",
    "_inivariabeljuga = \"Hi\"\n",
    "inivariabel222 = \"Bye\" \n",
    "\n",
    "panjang = 10\n",
    "lebar = 5\n",
    "luas = panjang * lebar\n",
    "print(luas)"
   ]
  },
  {
   "cell_type": "markdown",
   "metadata": {},
   "source": [
    "Konversi Tipe Data Number Python\n",
    "Pada Python Anda bisa mengkonversi tipe data dengan menggunakan fungsi. Dibawah ini adalah beberapa fungsi untuk mengkonversi tipe data number Python."
   ]
  },
  {
   "cell_type": "code",
   "execution_count": 100,
   "metadata": {},
   "outputs": [
    {
     "name": "stdout",
     "output_type": "stream",
     "text": [
      "<type 'str'>\n",
      "<type 'int'>\n"
     ]
    }
   ],
   "source": [
    "#konversi dari string ke integer\n",
    "a = \"10\"\n",
    "print type(a)\n",
    "print type(int(a))"
   ]
  },
  {
   "cell_type": "code",
   "execution_count": 102,
   "metadata": {},
   "outputs": [
    {
     "name": "stdout",
     "output_type": "stream",
     "text": [
      "<type 'int'>\n",
      "<type 'str'>\n"
     ]
    }
   ],
   "source": [
    "#konversi dari integer ke string\n",
    "a = 10\n",
    "print type(a)\n",
    "print type(str(a))"
   ]
  },
  {
   "cell_type": "code",
   "execution_count": 103,
   "metadata": {},
   "outputs": [
    {
     "name": "stdout",
     "output_type": "stream",
     "text": [
      "<type 'str'>\n",
      "<type 'long'>\n"
     ]
    }
   ],
   "source": [
    "#konversi dari string ke long\n",
    "a = \"10\"\n",
    "print type(a)\n",
    "print type(long(a))"
   ]
  },
  {
   "cell_type": "code",
   "execution_count": 104,
   "metadata": {},
   "outputs": [
    {
     "name": "stdout",
     "output_type": "stream",
     "text": [
      "<type 'str'>\n",
      "<type 'float'>\n"
     ]
    }
   ],
   "source": [
    "#konversi dari string ke float\n",
    "a = \"10.5\"\n",
    "print type(a)\n",
    "print type(float(a))"
   ]
  },
  {
   "cell_type": "code",
   "execution_count": 105,
   "metadata": {},
   "outputs": [
    {
     "name": "stdout",
     "output_type": "stream",
     "text": [
      "<type 'str'>\n",
      "<type 'complex'>\n"
     ]
    }
   ],
   "source": [
    "#konversi dari string ke float\n",
    "a = \"10j\"\n",
    "print type(a)\n",
    "print type(complex(a))"
   ]
  },
  {
   "cell_type": "markdown",
   "metadata": {},
   "source": [
    "Dalam bahasa pemrograman python terdapat beberapa operator yang mendukung yaitu:\n",
    "- Operator Aritmatika (Arithmetic Operators)\n",
    "- Operator Perbandingan (Comparison (Relational) Operators)\n",
    "- Operator Penugasan (Assignment Operators)\n",
    "- Operator Logika (Logical Operators)\n",
    "- Operator Bitwise (Bitwise Operators)\n",
    "- Operator Keanggotaan (Membership Operators)\n",
    "- Operator Identisas (Identity Operators)"
   ]
  },
  {
   "cell_type": "markdown",
   "metadata": {},
   "source": [
    "Operator Aritmatika (Arithmetic Operators)"
   ]
  },
  {
   "cell_type": "code",
   "execution_count": 57,
   "metadata": {},
   "outputs": [
    {
     "name": "stdout",
     "output_type": "stream",
     "text": [
      "15\n"
     ]
    }
   ],
   "source": [
    "#Penjumlahan\n",
    "print(13 + 2)\n",
    "apel = 7\n",
    "jeruk = 9\n",
    "buah = apel + jeruk #\n",
    "print(buah)"
   ]
  },
  {
   "cell_type": "code",
   "execution_count": 58,
   "metadata": {},
   "outputs": [
    {
     "name": "stdout",
     "output_type": "stream",
     "text": [
      "('Sisa hutang Anda adalah ', 5000)\n"
     ]
    }
   ],
   "source": [
    "#Pengurangan\n",
    "hutang = 10000\n",
    "bayar = 5000\n",
    "sisaHutang = hutang - bayar\n",
    "print(\"Sisa hutang Anda adalah \", sisaHutang)"
   ]
  },
  {
   "cell_type": "code",
   "execution_count": 59,
   "metadata": {},
   "outputs": [
    {
     "name": "stdout",
     "output_type": "stream",
     "text": [
      "120\n"
     ]
    }
   ],
   "source": [
    "#Perkalian\n",
    "panjang = 15\n",
    "lebar = 8\n",
    "luas = panjang * lebar\n",
    "print(luas)"
   ]
  },
  {
   "cell_type": "code",
   "execution_count": 60,
   "metadata": {},
   "outputs": [
    {
     "name": "stdout",
     "output_type": "stream",
     "text": [
      "('Setiap anak akan mendapatkan bagian kue sebanyak ', 4)\n"
     ]
    }
   ],
   "source": [
    "#Pembagian\n",
    "kue = 16\n",
    "anak = 4\n",
    "kuePerAnak = kue / anak\n",
    "print(\"Setiap anak akan mendapatkan bagian kue sebanyak \", kuePerAnak)"
   ]
  },
  {
   "cell_type": "code",
   "execution_count": 107,
   "metadata": {},
   "outputs": [
    {
     "name": "stdout",
     "output_type": "stream",
     "text": [
      "('Sisa bagi dari bilangan ', 14, ' dan ', 5, ' adalah ', 4)\n"
     ]
    }
   ],
   "source": [
    "#Sisa Bagi / Modulus\n",
    "bilangan1 = 14\n",
    "bilangan2 = 5\n",
    "hasil = bilangan1 % bilangan2\n",
    "print(\"Sisa bagi dari bilangan \", bilangan1, \" dan \", bilangan2, \" adalah \", hasil)"
   ]
  },
  {
   "cell_type": "code",
   "execution_count": 62,
   "metadata": {},
   "outputs": [
    {
     "name": "stdout",
     "output_type": "stream",
     "text": [
      "64\n"
     ]
    }
   ],
   "source": [
    "#Pangkat\n",
    "bilangan3 = 8\n",
    "bilangan4 = 2\n",
    "hasilPangkat = bilangan3 ** bilangan4\n",
    "print(hasilPangkat)"
   ]
  },
  {
   "cell_type": "code",
   "execution_count": 63,
   "metadata": {},
   "outputs": [
    {
     "name": "stdout",
     "output_type": "stream",
     "text": [
      "3\n"
     ]
    }
   ],
   "source": [
    "#Pembagian Bulat\n",
    "print(10//3) \n",
    "#10 dibagi 3 adalah 3.3333. Karena dibulatkan maka akan menghasilkan nilai 3"
   ]
  },
  {
   "cell_type": "markdown",
   "metadata": {},
   "source": [
    "String adalah jenis yang paling populer di bahasa pemrograman. Kita bisa membuatnya hanya dengan melampirkan karakter dalam tanda kutip. Python memperlakukan tanda kutip tunggal sama dengan tanda kutip ganda. Membuat string semudah memberi nilai pada sebuah variabel.\n",
    "Dibawah ini adalah contoh sederhana dari sebuah string pada bahasa pemrograman Python."
   ]
  },
  {
   "cell_type": "code",
   "execution_count": 49,
   "metadata": {},
   "outputs": [
    {
     "name": "stdout",
     "output_type": "stream",
     "text": [
      "Hello World\n"
     ]
    }
   ],
   "source": [
    "print(\"Hello World\")"
   ]
  },
  {
   "cell_type": "markdown",
   "metadata": {},
   "source": [
    "Mengakses Nilai dalam String\n",
    "Python tidak menggunakan tipe karakter titik koma ; Ini diperlakukan sebagai string dengan panjang satu, sehingga juga dianggap sebagai substring.\n",
    "Untuk mengakses substring, gunakan tanda kurung siku untuk mengiris beserta indeks atau indeks untuk mendapatkan substring Anda. Sebagai contoh:"
   ]
  },
  {
   "cell_type": "code",
   "execution_count": 53,
   "metadata": {},
   "outputs": [
    {
     "name": "stdout",
     "output_type": "stream",
     "text": [
      "('name[0]: ', 'J')\n",
      "('message[1:4]: ', 'oh')\n"
     ]
    }
   ],
   "source": [
    "name = 'John Doe'\n",
    "message = \"John Doe belajar bahasa python di Belajarpython\"\n",
    "print (\"name[0]: \", name[0])\n",
    "print (\"message[1:4]: \", message[1:3])"
   ]
  },
  {
   "cell_type": "markdown",
   "metadata": {},
   "source": [
    "Mengupdate String\n",
    "Anda dapat \"memperbarui\" string yang ada dengan (kembali) menugaskan variabel ke string lain. Nilai baru dapat dikaitkan dengan nilai sebelumnya atau ke string yang sama sekali berbeda sama sekali. Sebagai contoh:"
   ]
  },
  {
   "cell_type": "code",
   "execution_count": 54,
   "metadata": {},
   "outputs": [
    {
     "name": "stdout",
     "output_type": "stream",
     "text": [
      "('Updated String :- ', 'Hello Python')\n"
     ]
    }
   ],
   "source": [
    "message = 'Hello World'\n",
    "print (\"Updated String :- \", message[:6] + 'Python')"
   ]
  },
  {
   "cell_type": "markdown",
   "metadata": {},
   "source": [
    "Operator spesial pada string\\\n",
    "Pada python tipe data string juga dapat dimungkinkan mengalami operator matematika. contoh penggunaannya adalah sebagai berikut:"
   ]
  },
  {
   "cell_type": "code",
   "execution_count": 77,
   "metadata": {},
   "outputs": [
    {
     "name": "stdout",
     "output_type": "stream",
     "text": [
      "BelajarPython\n"
     ]
    }
   ],
   "source": [
    "a = \"Belajar\"\n",
    "b = \"Python\"\n",
    "\n",
    "#operasi + (Menambahkan nilai pada kedua sisi operator)\n",
    "print a+b"
   ]
  },
  {
   "cell_type": "code",
   "execution_count": 80,
   "metadata": {},
   "outputs": [
    {
     "name": "stdout",
     "output_type": "stream",
     "text": [
      "BelajarBelajar\n"
     ]
    }
   ],
   "source": [
    "a = \"Belajar\"\n",
    "\n",
    "#operasi * (Membuat string baru, menggabungkan beberapa salinan dari string yang sama)\n",
    "print a*2"
   ]
  },
  {
   "cell_type": "code",
   "execution_count": 81,
   "metadata": {},
   "outputs": [
    {
     "name": "stdout",
     "output_type": "stream",
     "text": [
      "e\n"
     ]
    }
   ],
   "source": [
    "a = \"Belajar\"\n",
    "\n",
    "#operasi [] (Memberikan karakter dari indeks yang diberikan)\n",
    "print a[1]"
   ]
  },
  {
   "cell_type": "code",
   "execution_count": 82,
   "metadata": {},
   "outputs": [
    {
     "name": "stdout",
     "output_type": "stream",
     "text": [
      "ela\n"
     ]
    }
   ],
   "source": [
    "a = \"Belajar\"\n",
    "\n",
    "#operasi [:] (Memberikan karakter dari kisaran yang diberikan)\n",
    "print a[1:4]"
   ]
  },
  {
   "cell_type": "code",
   "execution_count": 85,
   "metadata": {},
   "outputs": [
    {
     "name": "stdout",
     "output_type": "stream",
     "text": [
      "True\n"
     ]
    }
   ],
   "source": [
    "a = \"Belajar Python\"\n",
    "b = \"Python\"\n",
    "\n",
    "#operasi in (Mengembalikan nilai true jika ada karakter dalam string yang diberikan)\n",
    "print b in a"
   ]
  },
  {
   "cell_type": "code",
   "execution_count": 90,
   "metadata": {},
   "outputs": [
    {
     "name": "stdout",
     "output_type": "stream",
     "text": [
      "True\n"
     ]
    }
   ],
   "source": [
    "a = \"Belajar\"\n",
    "b = \"Python\"\n",
    "\n",
    "#operasi not in (Mengembalikan nilai true jika karakter tidak ada dalam string yang diberikan)\n",
    "print b not in a"
   ]
  },
  {
   "cell_type": "markdown",
   "metadata": {},
   "source": [
    "Triple Quote Python\n",
    "Python triple quotes digunakan dengan membiarkan string untuk ditulis dalam beberapa baris, termasuk kata kerja NEWLINEs, TABs, dan karakter khusus lainnya. \n",
    "Sintaks untuk triple quotes terdiri dari tiga tanda kutip tunggal atau ganda ditulis berturut-turut :\n",
    "Berikut adalah contohnya: "
   ]
  },
  {
   "cell_type": "code",
   "execution_count": 91,
   "metadata": {},
   "outputs": [
    {
     "name": "stdout",
     "output_type": "stream",
     "text": [
      "this is a long string that is made up of\n",
      "several lines and non-printable characters such as\n",
      "TAB ( \t ) and they will show up that way when displayed.\n",
      "NEWLINEs within the string, whether explicitly given like\n",
      "this within the brackets [ \n",
      " ], or just a NEWLINE within\n",
      "the variable assignment will also show up.\n",
      "\n"
     ]
    }
   ],
   "source": [
    "kutipantiga = \"\"\"this is a long string that is made up of\n",
    "several lines and non-printable characters such as\n",
    "TAB ( \\t ) and they will show up that way when displayed.\n",
    "NEWLINEs within the string, whether explicitly given like\n",
    "this within the brackets [ \\n ], or just a NEWLINE within\n",
    "the variable assignment will also show up.\n",
    "\"\"\"\n",
    "print (kutipantiga)"
   ]
  }
 ],
 "metadata": {
  "kernelspec": {
   "display_name": "Python 2",
   "language": "python",
   "name": "python2"
  },
  "language_info": {
   "codemirror_mode": {
    "name": "ipython",
    "version": 2
   },
   "file_extension": ".py",
   "mimetype": "text/x-python",
   "name": "python",
   "nbconvert_exporter": "python",
   "pygments_lexer": "ipython2",
   "version": "2.7.11"
  }
 },
 "nbformat": 4,
 "nbformat_minor": 2
}
